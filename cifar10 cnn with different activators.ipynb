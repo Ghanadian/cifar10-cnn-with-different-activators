{
 "cells": [
  {
   "cell_type": "code",
   "execution_count": 1,
   "id": "ebe4c890",
   "metadata": {},
   "outputs": [],
   "source": [
    "import tensorflow as tf\n",
    "from tensorflow.keras import datasets, layers, models\n",
    "import matplotlib.pyplot as plt\n",
    "import numpy as np\n",
    "from tensorflow import keras\n",
    "plt.style.use('dark_background')"
   ]
  },
  {
   "cell_type": "code",
   "execution_count": 2,
   "id": "9cec3694",
   "metadata": {},
   "outputs": [],
   "source": [
    "epoch=40"
   ]
  },
  {
   "cell_type": "markdown",
   "id": "e89447e0",
   "metadata": {},
   "source": [
    "### Load the dataset"
   ]
  },
  {
   "cell_type": "code",
   "execution_count": 3,
   "id": "090ad3b7",
   "metadata": {},
   "outputs": [],
   "source": [
    "(X_train, y_train), (X_test,y_test) = datasets.cifar10.load_data()"
   ]
  },
  {
   "cell_type": "markdown",
   "id": "5a4399de",
   "metadata": {},
   "source": [
    " y_train is a 2D array, for our classification having 1D array is good enough. so we will convert this to now 1D array"
   ]
  },
  {
   "cell_type": "code",
   "execution_count": 4,
   "id": "3aba4f44",
   "metadata": {},
   "outputs": [],
   "source": [
    "y_train = y_train.reshape(-1,)"
   ]
  },
  {
   "cell_type": "code",
   "execution_count": 5,
   "id": "4559c5d4",
   "metadata": {},
   "outputs": [],
   "source": [
    "y_test = y_test.reshape(-1,)\n"
   ]
  },
  {
   "cell_type": "markdown",
   "id": "d5ce1bc1",
   "metadata": {},
   "source": [
    "### Normalizing the  data\n"
   ]
  },
  {
   "cell_type": "markdown",
   "id": "8b36a9fb",
   "metadata": {},
   "source": [
    "we have to rescale the pixel values in range 0 - 1 inclusive."
   ]
  },
  {
   "cell_type": "code",
   "execution_count": 6,
   "id": "bbb418a2",
   "metadata": {},
   "outputs": [],
   "source": [
    "X_train = X_train / 255.0\n",
    "X_test = X_test / 255.0"
   ]
  },
  {
   "cell_type": "markdown",
   "id": "582a659a",
   "metadata": {},
   "source": [
    "###  Data augmentation"
   ]
  },
  {
   "cell_type": "markdown",
   "id": "59c301e3",
   "metadata": {},
   "source": [
    "Data augmentation is a technique of artificially increasing the training set by creating modified copies of a dataset using existing data.For preventing model from overfitting and  improving the model accuracy we used Data augmentation. "
   ]
  },
  {
   "cell_type": "code",
   "execution_count": 7,
   "id": "d96886eb",
   "metadata": {},
   "outputs": [
    {
     "name": "stdout",
     "output_type": "stream",
     "text": [
      "WARNING:tensorflow:Using a while_loop for converting RngReadAndSkip cause there is no registered converter for this op.\n",
      "WARNING:tensorflow:Using a while_loop for converting Bitcast cause there is no registered converter for this op.\n",
      "WARNING:tensorflow:Using a while_loop for converting Bitcast cause there is no registered converter for this op.\n",
      "WARNING:tensorflow:Using a while_loop for converting StatelessRandomUniformV2 cause there is no registered converter for this op.\n",
      "WARNING:tensorflow:Using a while_loop for converting ImageProjectiveTransformV3 cause there is no registered converter for this op.\n",
      "WARNING:tensorflow:Using a while_loop for converting RngReadAndSkip cause there is no registered converter for this op.\n",
      "WARNING:tensorflow:Using a while_loop for converting Bitcast cause there is no registered converter for this op.\n",
      "WARNING:tensorflow:Using a while_loop for converting Bitcast cause there is no registered converter for this op.\n",
      "WARNING:tensorflow:Using a while_loop for converting StatelessRandomUniformV2 cause there is no registered converter for this op.\n",
      "WARNING:tensorflow:Using a while_loop for converting ImageProjectiveTransformV3 cause there is no registered converter for this op.\n"
     ]
    }
   ],
   "source": [
    "data_augmentation = keras.Sequential(\n",
    "  [\n",
    "    layers.experimental.preprocessing.RandomFlip(\"horizontal\", \n",
    "                                                 input_shape=(32, \n",
    "                                                              32,\n",
    "                                                              3)),\n",
    "    \n",
    "    layers.experimental.preprocessing.RandomRotation(0.1),\n",
    "    layers.experimental.preprocessing.RandomZoom(0.1),\n",
    "  ]\n",
    ")"
   ]
  },
  {
   "cell_type": "markdown",
   "id": "f7372cca",
   "metadata": {},
   "source": [
    "# Neural Network Architecture ( with TOP-1 and ReLU)"
   ]
  },
  {
   "cell_type": "markdown",
   "id": "050ab2b3",
   "metadata": {},
   "source": [
    "The images are of size 32 x 32. we convert the image matrix to an array, rescale it between 0 and 1, reshape it so that it's of size 32 x 32 x 3, and feed this as an input to the network.\n",
    "\n",
    "we used four convolutional layers and two fully-connected layers:\n",
    "\n",
    "The first layer will have 32-3 x 3 filters, response-normalized and pooled. The second layer will have 32-3 x 3 filters, response-normalized and pooled. The third layer will have 64-3 x 3 filters, without any intervening pooling or normalization layers and The fourth layer will have 64-3 x 3 filters,pooled. There are three max-pooling layers each of size 2 x 2 and dropout with a rate of 0.2 for first and second and with a rate of 0.4 for fourth layers. Response-normalization layers follow the first and second convolutional layers. The ReLU non-linearity is applied to the output of every convolutional and fully-connected layer. The first fully-connected layer has 64 neurons. We used dropout with a rate of 0.5. The output of the last fully connected layer is fed to a softmax also for Improvimg Test Accuracy we used Data Augmentation."
   ]
  },
  {
   "cell_type": "code",
   "execution_count": 8,
   "id": "c4878218",
   "metadata": {},
   "outputs": [
    {
     "name": "stdout",
     "output_type": "stream",
     "text": [
      "WARNING:tensorflow:Using a while_loop for converting RngReadAndSkip cause there is no registered converter for this op.\n",
      "WARNING:tensorflow:Using a while_loop for converting Bitcast cause there is no registered converter for this op.\n",
      "WARNING:tensorflow:Using a while_loop for converting Bitcast cause there is no registered converter for this op.\n",
      "WARNING:tensorflow:Using a while_loop for converting StatelessRandomUniformV2 cause there is no registered converter for this op.\n",
      "WARNING:tensorflow:Using a while_loop for converting ImageProjectiveTransformV3 cause there is no registered converter for this op.\n",
      "WARNING:tensorflow:Using a while_loop for converting RngReadAndSkip cause there is no registered converter for this op.\n",
      "WARNING:tensorflow:Using a while_loop for converting Bitcast cause there is no registered converter for this op.\n",
      "WARNING:tensorflow:Using a while_loop for converting Bitcast cause there is no registered converter for this op.\n",
      "WARNING:tensorflow:Using a while_loop for converting StatelessRandomUniformV2 cause there is no registered converter for this op.\n",
      "WARNING:tensorflow:Using a while_loop for converting ImageProjectiveTransformV3 cause there is no registered converter for this op.\n"
     ]
    }
   ],
   "source": [
    "activation = 'relu'\n",
    "cnn = models.Sequential([\n",
    "    data_augmentation,\n",
    "    layers.Conv2D(filters=32, kernel_size=(3, 3), activation=activation, input_shape=(32, 32, 3)),\n",
    "    layers.Lambda(tf.nn.local_response_normalization),\n",
    "    layers.MaxPooling2D((2, 2)),\n",
    "    layers.Dropout(0.2),\n",
    "    \n",
    "    layers.Conv2D(filters=32, kernel_size=(3, 3), activation=activation),\n",
    "    layers.Lambda(tf.nn.local_response_normalization),\n",
    "    layers.MaxPooling2D((2, 2)),\n",
    "    layers.Dropout(0.2),\n",
    "    \n",
    "    layers.Conv2D(filters=64, kernel_size=(3, 3), activation=activation),\n",
    "   \n",
    "    \n",
    "    layers.Conv2D(filters=64, kernel_size=(3, 3), activation=activation),\n",
    "    layers.MaxPooling2D((2, 2)),\n",
    "    layers.Dropout(0.4),\n",
    "    \n",
    "    layers.Flatten(),\n",
    "    layers.Dense(64, activation=activation),\n",
    "    layers.Dropout(0.5),\n",
    "\n",
    "    layers.Dense(10, activation='softmax')\n",
    "])"
   ]
  },
  {
   "cell_type": "markdown",
   "id": "9387dbac",
   "metadata": {},
   "source": [
    "### Compile the Model with TOP-1 error"
   ]
  },
  {
   "cell_type": "markdown",
   "id": "c9b2af53",
   "metadata": {},
   "source": [
    "After the model is created, we compile it using the SGD optimizer, one of the most popular optimization algorithms. Additionally, we specify the loss type which is categorical cross entropy which is used for multi-class classification, we can also use binary cross-entropy as the loss function. Lastly, we specify the metrics as accuracy with TOP-1 error which we want to analyze while the model is training."
   ]
  },
  {
   "cell_type": "code",
   "execution_count": 9,
   "id": "f02e0429",
   "metadata": {},
   "outputs": [],
   "source": [
    "opt = tf.keras.optimizers.SGD( learning_rate=0.01,\n",
    "    momentum=0.9,\n",
    "   # weight_decay=0.0005   \n",
    ")\n",
    "\n",
    "\n",
    "cnn.compile(optimizer=opt,\n",
    "              loss='sparse_categorical_crossentropy',\n",
    "              metrics=['accuracy'])"
   ]
  },
  {
   "cell_type": "markdown",
   "id": "01034b5c",
   "metadata": {},
   "source": [
    "Let's visualize the layers that we created in the above step by using the summary function. This will show some parameters (weights and biases) in each layer and also the total parameters in our model."
   ]
  },
  {
   "cell_type": "code",
   "execution_count": 10,
   "id": "c2d5a4b1",
   "metadata": {},
   "outputs": [
    {
     "name": "stdout",
     "output_type": "stream",
     "text": [
      "Model: \"sequential_1\"\n",
      "_________________________________________________________________\n",
      " Layer (type)                Output Shape              Param #   \n",
      "=================================================================\n",
      " sequential (Sequential)     (None, 32, 32, 3)         0         \n",
      "                                                                 \n",
      " conv2d (Conv2D)             (None, 30, 30, 32)        896       \n",
      "                                                                 \n",
      " lambda (Lambda)             (None, 30, 30, 32)        0         \n",
      "                                                                 \n",
      " max_pooling2d (MaxPooling2D  (None, 15, 15, 32)       0         \n",
      " )                                                               \n",
      "                                                                 \n",
      " dropout (Dropout)           (None, 15, 15, 32)        0         \n",
      "                                                                 \n",
      " conv2d_1 (Conv2D)           (None, 13, 13, 32)        9248      \n",
      "                                                                 \n",
      " lambda_1 (Lambda)           (None, 13, 13, 32)        0         \n",
      "                                                                 \n",
      " max_pooling2d_1 (MaxPooling  (None, 6, 6, 32)         0         \n",
      " 2D)                                                             \n",
      "                                                                 \n",
      " dropout_1 (Dropout)         (None, 6, 6, 32)          0         \n",
      "                                                                 \n",
      " conv2d_2 (Conv2D)           (None, 4, 4, 64)          18496     \n",
      "                                                                 \n",
      " conv2d_3 (Conv2D)           (None, 2, 2, 64)          36928     \n",
      "                                                                 \n",
      " max_pooling2d_2 (MaxPooling  (None, 1, 1, 64)         0         \n",
      " 2D)                                                             \n",
      "                                                                 \n",
      " dropout_2 (Dropout)         (None, 1, 1, 64)          0         \n",
      "                                                                 \n",
      " flatten (Flatten)           (None, 64)                0         \n",
      "                                                                 \n",
      " dense (Dense)               (None, 64)                4160      \n",
      "                                                                 \n",
      " dropout_3 (Dropout)         (None, 64)                0         \n",
      "                                                                 \n",
      " dense_1 (Dense)             (None, 10)                650       \n",
      "                                                                 \n",
      "=================================================================\n",
      "Total params: 70,378\n",
      "Trainable params: 70,378\n",
      "Non-trainable params: 0\n",
      "_________________________________________________________________\n",
      "None\n"
     ]
    }
   ],
   "source": [
    "print(cnn.summary()) "
   ]
  },
  {
   "cell_type": "markdown",
   "id": "bc4de387",
   "metadata": {},
   "source": [
    "### Train the Model"
   ]
  },
  {
   "cell_type": "markdown",
   "id": "42c0024e",
   "metadata": {},
   "source": [
    "It's finally time to train the model with Keras' fit() function! The model trains for 40 epochs. The fit() function will return a historyrelutop1 object; By storying the result of this function in historyrelutop1, we can use it later to plot the accuracy and loss function plots between training and validation which will help us to analyze our model's performance visually."
   ]
  },
  {
   "cell_type": "code",
   "execution_count": 11,
   "id": "a73e3c3a",
   "metadata": {},
   "outputs": [
    {
     "name": "stdout",
     "output_type": "stream",
     "text": [
      "Epoch 1/40\n",
      "WARNING:tensorflow:Using a while_loop for converting RngReadAndSkip cause there is no registered converter for this op.\n",
      "WARNING:tensorflow:Using a while_loop for converting Bitcast cause there is no registered converter for this op.\n",
      "WARNING:tensorflow:Using a while_loop for converting Bitcast cause there is no registered converter for this op.\n",
      "WARNING:tensorflow:Using a while_loop for converting StatelessRandomUniformV2 cause there is no registered converter for this op.\n",
      "WARNING:tensorflow:Using a while_loop for converting ImageProjectiveTransformV3 cause there is no registered converter for this op.\n",
      "WARNING:tensorflow:Using a while_loop for converting RngReadAndSkip cause there is no registered converter for this op.\n",
      "WARNING:tensorflow:Using a while_loop for converting Bitcast cause there is no registered converter for this op.\n",
      "WARNING:tensorflow:Using a while_loop for converting Bitcast cause there is no registered converter for this op.\n",
      "WARNING:tensorflow:Using a while_loop for converting StatelessRandomUniformV2 cause there is no registered converter for this op.\n",
      "WARNING:tensorflow:Using a while_loop for converting ImageProjectiveTransformV3 cause there is no registered converter for this op.\n",
      "WARNING:tensorflow:Using a while_loop for converting RngReadAndSkip cause there is no registered converter for this op.\n",
      "WARNING:tensorflow:Using a while_loop for converting Bitcast cause there is no registered converter for this op.\n",
      "WARNING:tensorflow:Using a while_loop for converting Bitcast cause there is no registered converter for this op.\n",
      "WARNING:tensorflow:Using a while_loop for converting StatelessRandomUniformV2 cause there is no registered converter for this op.\n",
      "WARNING:tensorflow:Using a while_loop for converting ImageProjectiveTransformV3 cause there is no registered converter for this op.\n",
      "WARNING:tensorflow:Using a while_loop for converting RngReadAndSkip cause there is no registered converter for this op.\n",
      "WARNING:tensorflow:Using a while_loop for converting Bitcast cause there is no registered converter for this op.\n",
      "WARNING:tensorflow:Using a while_loop for converting Bitcast cause there is no registered converter for this op.\n",
      "WARNING:tensorflow:Using a while_loop for converting StatelessRandomUniformV2 cause there is no registered converter for this op.\n",
      "WARNING:tensorflow:Using a while_loop for converting ImageProjectiveTransformV3 cause there is no registered converter for this op.\n",
      "1563/1563 [==============================] - 81s 47ms/step - loss: 2.1127 - accuracy: 0.1895 - val_loss: 1.8402 - val_accuracy: 0.3024\n",
      "Epoch 2/40\n",
      "1563/1563 [==============================] - 78s 50ms/step - loss: 1.8688 - accuracy: 0.3003 - val_loss: 1.6436 - val_accuracy: 0.3746\n",
      "Epoch 3/40\n",
      "1563/1563 [==============================] - 77s 50ms/step - loss: 1.7404 - accuracy: 0.3574 - val_loss: 1.6008 - val_accuracy: 0.3994\n",
      "Epoch 4/40\n",
      "1563/1563 [==============================] - 72s 46ms/step - loss: 1.6755 - accuracy: 0.3844 - val_loss: 1.4765 - val_accuracy: 0.4698\n",
      "Epoch 5/40\n",
      "1563/1563 [==============================] - 77s 49ms/step - loss: 1.6150 - accuracy: 0.4120 - val_loss: 1.3464 - val_accuracy: 0.5017\n",
      "Epoch 6/40\n",
      "1563/1563 [==============================] - 85s 54ms/step - loss: 1.5833 - accuracy: 0.4290 - val_loss: 1.3573 - val_accuracy: 0.5007\n",
      "Epoch 7/40\n",
      "1563/1563 [==============================] - 76s 49ms/step - loss: 1.5554 - accuracy: 0.4437 - val_loss: 1.3845 - val_accuracy: 0.4992\n",
      "Epoch 8/40\n",
      "1563/1563 [==============================] - 76s 49ms/step - loss: 1.5326 - accuracy: 0.4537 - val_loss: 1.3019 - val_accuracy: 0.5294\n",
      "Epoch 9/40\n",
      "1563/1563 [==============================] - 74s 47ms/step - loss: 1.5216 - accuracy: 0.4594 - val_loss: 1.2899 - val_accuracy: 0.5366\n",
      "Epoch 10/40\n",
      "1563/1563 [==============================] - 87s 56ms/step - loss: 1.5071 - accuracy: 0.4665 - val_loss: 1.3017 - val_accuracy: 0.5340\n",
      "Epoch 11/40\n",
      "1563/1563 [==============================] - 82s 53ms/step - loss: 1.4921 - accuracy: 0.4730 - val_loss: 1.2406 - val_accuracy: 0.5525\n",
      "Epoch 12/40\n",
      "1563/1563 [==============================] - 68s 43ms/step - loss: 1.4824 - accuracy: 0.4798 - val_loss: 1.2815 - val_accuracy: 0.5276\n",
      "Epoch 13/40\n",
      "1563/1563 [==============================] - 66s 42ms/step - loss: 1.4673 - accuracy: 0.4878 - val_loss: 1.2815 - val_accuracy: 0.5340\n",
      "Epoch 14/40\n",
      "1563/1563 [==============================] - 73s 47ms/step - loss: 1.4562 - accuracy: 0.4923 - val_loss: 1.2407 - val_accuracy: 0.5583\n",
      "Epoch 15/40\n",
      "1563/1563 [==============================] - 85s 55ms/step - loss: 1.4531 - accuracy: 0.4929 - val_loss: 1.2269 - val_accuracy: 0.5804\n",
      "Epoch 16/40\n",
      "1563/1563 [==============================] - 89s 57ms/step - loss: 1.4378 - accuracy: 0.5008 - val_loss: 1.1741 - val_accuracy: 0.5760\n",
      "Epoch 17/40\n",
      "1563/1563 [==============================] - 87s 56ms/step - loss: 1.4303 - accuracy: 0.5024 - val_loss: 1.1937 - val_accuracy: 0.5682\n",
      "Epoch 18/40\n",
      "1563/1563 [==============================] - 91s 58ms/step - loss: 1.4174 - accuracy: 0.5035 - val_loss: 1.2034 - val_accuracy: 0.5695\n",
      "Epoch 19/40\n",
      "1563/1563 [==============================] - 88s 56ms/step - loss: 1.4164 - accuracy: 0.5074 - val_loss: 1.1789 - val_accuracy: 0.5810\n",
      "Epoch 20/40\n",
      "1563/1563 [==============================] - 76s 49ms/step - loss: 1.4138 - accuracy: 0.5088 - val_loss: 1.1718 - val_accuracy: 0.5779\n",
      "Epoch 21/40\n",
      "1563/1563 [==============================] - 68s 43ms/step - loss: 1.4028 - accuracy: 0.5150 - val_loss: 1.1478 - val_accuracy: 0.5895\n",
      "Epoch 22/40\n",
      "1563/1563 [==============================] - 89s 57ms/step - loss: 1.3998 - accuracy: 0.5140 - val_loss: 1.1780 - val_accuracy: 0.5808\n",
      "Epoch 23/40\n",
      "1563/1563 [==============================] - 88s 56ms/step - loss: 1.3938 - accuracy: 0.5179 - val_loss: 1.1802 - val_accuracy: 0.5871\n",
      "Epoch 24/40\n",
      "1563/1563 [==============================] - 86s 55ms/step - loss: 1.3933 - accuracy: 0.5186 - val_loss: 1.1824 - val_accuracy: 0.5812\n",
      "Epoch 25/40\n",
      "1563/1563 [==============================] - 88s 56ms/step - loss: 1.3946 - accuracy: 0.5172 - val_loss: 1.1490 - val_accuracy: 0.5868\n",
      "Epoch 26/40\n",
      "1563/1563 [==============================] - 76s 49ms/step - loss: 1.3834 - accuracy: 0.5225 - val_loss: 1.1419 - val_accuracy: 0.5939\n",
      "Epoch 27/40\n",
      "1563/1563 [==============================] - 79s 50ms/step - loss: 1.3753 - accuracy: 0.5277 - val_loss: 1.1662 - val_accuracy: 0.5876\n",
      "Epoch 28/40\n",
      "1563/1563 [==============================] - 75s 48ms/step - loss: 1.3727 - accuracy: 0.5279 - val_loss: 1.1359 - val_accuracy: 0.5963\n",
      "Epoch 29/40\n",
      "1563/1563 [==============================] - 77s 49ms/step - loss: 1.3737 - accuracy: 0.5274 - val_loss: 1.1228 - val_accuracy: 0.6106\n",
      "Epoch 30/40\n",
      "1563/1563 [==============================] - 71s 46ms/step - loss: 1.3670 - accuracy: 0.5305 - val_loss: 1.1443 - val_accuracy: 0.5939\n",
      "Epoch 31/40\n",
      "1563/1563 [==============================] - 73s 46ms/step - loss: 1.3646 - accuracy: 0.5294 - val_loss: 1.1189 - val_accuracy: 0.6040\n",
      "Epoch 32/40\n",
      "1563/1563 [==============================] - 81s 52ms/step - loss: 1.3549 - accuracy: 0.5334 - val_loss: 1.0969 - val_accuracy: 0.6104\n",
      "Epoch 33/40\n",
      "1563/1563 [==============================] - 82s 52ms/step - loss: 1.3559 - accuracy: 0.5326 - val_loss: 1.1606 - val_accuracy: 0.5849\n",
      "Epoch 34/40\n",
      "1563/1563 [==============================] - 85s 54ms/step - loss: 1.3584 - accuracy: 0.5359 - val_loss: 1.1106 - val_accuracy: 0.6061\n",
      "Epoch 35/40\n",
      "1563/1563 [==============================] - 66s 42ms/step - loss: 1.3434 - accuracy: 0.5387 - val_loss: 1.1611 - val_accuracy: 0.5905\n",
      "Epoch 36/40\n",
      "1563/1563 [==============================] - 85s 54ms/step - loss: 1.3450 - accuracy: 0.5364 - val_loss: 1.1054 - val_accuracy: 0.6051\n",
      "Epoch 37/40\n",
      "1563/1563 [==============================] - 83s 53ms/step - loss: 1.3502 - accuracy: 0.5356 - val_loss: 1.1315 - val_accuracy: 0.5972\n",
      "Epoch 38/40\n",
      "1563/1563 [==============================] - 82s 52ms/step - loss: 1.3466 - accuracy: 0.5382 - val_loss: 1.1297 - val_accuracy: 0.5985\n",
      "Epoch 39/40\n",
      "1563/1563 [==============================] - 86s 55ms/step - loss: 1.3417 - accuracy: 0.5398 - val_loss: 1.1198 - val_accuracy: 0.6066\n",
      "Epoch 40/40\n",
      "1563/1563 [==============================] - 83s 53ms/step - loss: 1.3372 - accuracy: 0.5425 - val_loss: 1.0960 - val_accuracy: 0.6175\n"
     ]
    }
   ],
   "source": [
    "historyrelutop1 =cnn.fit(X_train, y_train, epochs=epoch, validation_data = (X_test, y_test))"
   ]
  },
  {
   "cell_type": "markdown",
   "id": "698d5232",
   "metadata": {},
   "source": [
    "Finally! we trained the model for 40 epochs, and by observing the training accuracy and loss, we can say that the model did a good job since after 40 epochs the training accuracy is 54.25% and the training loss is quite low.\n",
    "\n",
    "However, the validation loss is 1.0960  and the validation accuracy is 61.75%. Overfitting gives an intuition that the network has memorized the training data very well but is not guaranteed to work on unseen data, and that is why there is a difference in the training and validation accuracy."
   ]
  },
  {
   "cell_type": "markdown",
   "id": "1c61efbc",
   "metadata": {},
   "source": [
    "### Model Evaluation(TOP-1) on the Test Set"
   ]
  },
  {
   "cell_type": "code",
   "execution_count": 12,
   "id": "9dc75404",
   "metadata": {},
   "outputs": [
    {
     "name": "stdout",
     "output_type": "stream",
     "text": [
      "313/313 [==============================] - 4s 12ms/step - loss: 1.0960 - accuracy: 0.6175\n",
      "313/313 [==============================] - 4s 12ms/step - loss: 1.0960 - accuracy: 0.6175\n",
      "nCNN Model(with Relu) Test accuracy( TOP-1): 0.6175000071525574\n"
     ]
    }
   ],
   "source": [
    "cnn.evaluate(X_test, y_test)\n",
    "scorerelutop1 = cnn.evaluate(X_test, y_test, verbose=1)\n",
    "print('n''CNN Model(with Relu) Test accuracy( TOP-1):', scorerelutop1[1])"
   ]
  },
  {
   "cell_type": "markdown",
   "id": "e2d9f121",
   "metadata": {},
   "source": [
    "# plot the training and validation accuracy(TOP-1) and loss at each epoch"
   ]
  },
  {
   "cell_type": "code",
   "execution_count": 13,
   "id": "0cd03e78",
   "metadata": {},
   "outputs": [
    {
     "data": {
      "image/png": "[encoded data removed]",
      "text/plain": [
       "<Figure size 640x480 with 1 Axes>"
      ]
     },
     "metadata": {},
     "output_type": "display_data"
    }
   ],
   "source": [
    "loss = historyrelutop1.history['loss']\n",
    "val_loss = historyrelutop1.history['val_loss']\n",
    "epochs = range(1, len(loss) + 1)\n",
    "plt.plot(epochs, loss, 'bo', label='Training loss')\n",
    "plt.plot(epochs, val_loss, 'b', label='Validation loss')\n",
    "plt.title('Training and validation loss')\n",
    "plt.xlabel('Epochs')\n",
    "plt.ylabel('Loss')\n",
    "plt.legend()\n",
    "plt.show()"
   ]
  },
  {
   "cell_type": "code",
   "execution_count": 14,
   "id": "a215680d",
   "metadata": {},
   "outputs": [
    {
     "data": {
      "image/png": "[encoded data removed]",
      "text/plain": [
       "<Figure size 640x480 with 1 Axes>"
      ]
     },
     "metadata": {},
     "output_type": "display_data"
    }
   ],
   "source": [
    "accuracy = historyrelutop1.history['accuracy']\n",
    "val_accuracy = historyrelutop1.history['val_accuracy']\n",
    "plt.plot(epochs, accuracy, 'bo', label='Training accuracy(TOP-1)')\n",
    "plt.plot(epochs, val_accuracy, 'b', label='Validation accuracy(TOP-1)')\n",
    "plt.title('Training and validation accuracy(TOP-1)')\n",
    "plt.xlabel('Epochs')\n",
    "plt.ylabel('Accuracy')\n",
    "plt.legend()\n",
    "plt.show()"
   ]
  },
  {
   "cell_type": "markdown",
   "id": "679b0dd1",
   "metadata": {},
   "source": [
    "we can see that the validation loss and validation accuracy both are in sync with the training loss and training accuracy. Even though the validation loss and accuracy line are not linear, but it shows that your model is not overfitting: the validation loss is decreasing and not increasing, and there is not much gap between training and validation accuracy.\n",
    "\n",
    "Therefore, we can say that our model's generalization capability became much better since the loss on both test set and validation set was only slightly more compared to the training loss."
   ]
  },
  {
   "cell_type": "markdown",
   "id": "de10e736",
   "metadata": {},
   "source": [
    "# Neural Network Architecture ( with TOP-5 and ReLU)"
   ]
  },
  {
   "cell_type": "code",
   "execution_count": 15,
   "id": "734ab972",
   "metadata": {},
   "outputs": [],
   "source": [
    "activation = 'relu'\n",
    "cnn = models.Sequential([\n",
    "    layers.Conv2D(filters=32, kernel_size=(3, 3), activation=activation, input_shape=(32, 32, 3)),\n",
    "    layers.Lambda(tf.nn.local_response_normalization),\n",
    "    layers.MaxPooling2D((2, 2)),\n",
    "    layers.Dropout(0.2),\n",
    "    \n",
    "    layers.Conv2D(filters=32, kernel_size=(3, 3), activation=activation),\n",
    "    layers.Lambda(tf.nn.local_response_normalization),\n",
    "    layers.MaxPooling2D((2, 2)),\n",
    "    layers.Dropout(0.2),\n",
    "    \n",
    "    layers.Conv2D(filters=64, kernel_size=(3, 3), activation=activation),\n",
    "   \n",
    "    \n",
    "    layers.Conv2D(filters=64, kernel_size=(3, 3), activation=activation),\n",
    "    layers.MaxPooling2D((2, 2)),\n",
    "    layers.Dropout(0.4),\n",
    "    \n",
    "    layers.Flatten(),\n",
    "    layers.Dense(64, activation=activation),\n",
    "    layers.Dropout(0.5),\n",
    "\n",
    "    layers.Dense(10, activation='softmax')\n",
    "])"
   ]
  },
  {
   "cell_type": "markdown",
   "id": "0842b4bc",
   "metadata": {},
   "source": [
    "### Compile the Model with TOP-5 error"
   ]
  },
  {
   "cell_type": "markdown",
   "id": "571fb4b7",
   "metadata": {},
   "source": [
    "we used top-5 error where the top-5 error rate is the fraction of test images for which the correct label is not among the five labels considered most probable by the model."
   ]
  },
  {
   "cell_type": "code",
   "execution_count": 16,
   "id": "5c36640f",
   "metadata": {},
   "outputs": [],
   "source": [
    "opt = tf.keras.optimizers.SGD( learning_rate=0.01,\n",
    "    momentum=0.9,\n",
    "   # weight_decay=0.0005   \n",
    ")   \n",
    "acc= tf.keras.metrics.TopKCategoricalAccuracy(k=5) #top-5 error\n",
    "cnn.compile(optimizer = opt,loss = 'sparse_categorical_crossentropy', metrics = acc)"
   ]
  },
  {
   "cell_type": "markdown",
   "id": "7580906a",
   "metadata": {},
   "source": [
    "### Train the Model"
   ]
  },
  {
   "cell_type": "code",
   "execution_count": 17,
   "id": "47cd3a17",
   "metadata": {},
   "outputs": [
    {
     "name": "stdout",
     "output_type": "stream",
     "text": [
      "Epoch 1/40\n",
      "1563/1563 [==============================] - 55s 35ms/step - loss: 2.0681 - top_k_categorical_accuracy: 0.3952 - val_loss: 1.7346 - val_top_k_categorical_accuracy: 0.4410\n",
      "Epoch 2/40\n",
      "1563/1563 [==============================] - 59s 38ms/step - loss: 1.7449 - top_k_categorical_accuracy: 0.4321 - val_loss: 1.6277 - val_top_k_categorical_accuracy: 0.3193\n",
      "Epoch 3/40\n",
      "1563/1563 [==============================] - 58s 37ms/step - loss: 1.5789 - top_k_categorical_accuracy: 0.4584 - val_loss: 1.3885 - val_top_k_categorical_accuracy: 0.5007\n",
      "Epoch 4/40\n",
      "1563/1563 [==============================] - 58s 37ms/step - loss: 1.4921 - top_k_categorical_accuracy: 0.4853 - val_loss: 1.3228 - val_top_k_categorical_accuracy: 0.4246\n",
      "Epoch 5/40\n",
      "1563/1563 [==============================] - 58s 37ms/step - loss: 1.4291 - top_k_categorical_accuracy: 0.4915 - val_loss: 1.2910 - val_top_k_categorical_accuracy: 0.3860\n",
      "Epoch 6/40\n",
      "1563/1563 [==============================] - 60s 38ms/step - loss: 1.3808 - top_k_categorical_accuracy: 0.4902 - val_loss: 1.2046 - val_top_k_categorical_accuracy: 0.5374\n",
      "Epoch 7/40\n",
      "1563/1563 [==============================] - 58s 37ms/step - loss: 1.3470 - top_k_categorical_accuracy: 0.4933 - val_loss: 1.2025 - val_top_k_categorical_accuracy: 0.4008\n",
      "Epoch 8/40\n",
      "1563/1563 [==============================] - 58s 37ms/step - loss: 1.3107 - top_k_categorical_accuracy: 0.4995 - val_loss: 1.2039 - val_top_k_categorical_accuracy: 0.5384\n",
      "Epoch 9/40\n",
      "1563/1563 [==============================] - 58s 37ms/step - loss: 1.2807 - top_k_categorical_accuracy: 0.5012 - val_loss: 1.0857 - val_top_k_categorical_accuracy: 0.4702\n",
      "Epoch 10/40\n",
      "1563/1563 [==============================] - 60s 38ms/step - loss: 1.2642 - top_k_categorical_accuracy: 0.4937 - val_loss: 1.1569 - val_top_k_categorical_accuracy: 0.3831\n",
      "Epoch 11/40\n",
      "1563/1563 [==============================] - 59s 37ms/step - loss: 1.2452 - top_k_categorical_accuracy: 0.4896 - val_loss: 1.1516 - val_top_k_categorical_accuracy: 0.4492\n",
      "Epoch 12/40\n",
      "1563/1563 [==============================] - 58s 37ms/step - loss: 1.2264 - top_k_categorical_accuracy: 0.4947 - val_loss: 1.0894 - val_top_k_categorical_accuracy: 0.4462\n",
      "Epoch 13/40\n",
      "1563/1563 [==============================] - 60s 38ms/step - loss: 1.2135 - top_k_categorical_accuracy: 0.4956 - val_loss: 1.0866 - val_top_k_categorical_accuracy: 0.4332\n",
      "Epoch 14/40\n",
      "1563/1563 [==============================] - 61s 39ms/step - loss: 1.1983 - top_k_categorical_accuracy: 0.4890 - val_loss: 1.0895 - val_top_k_categorical_accuracy: 0.3894\n",
      "Epoch 15/40\n",
      "1563/1563 [==============================] - 60s 39ms/step - loss: 1.1861 - top_k_categorical_accuracy: 0.4968 - val_loss: 1.0459 - val_top_k_categorical_accuracy: 0.4253\n",
      "Epoch 16/40\n",
      "1563/1563 [==============================] - 60s 39ms/step - loss: 1.1763 - top_k_categorical_accuracy: 0.4874 - val_loss: 1.0393 - val_top_k_categorical_accuracy: 0.4497\n",
      "Epoch 17/40\n",
      "1563/1563 [==============================] - 65s 41ms/step - loss: 1.1645 - top_k_categorical_accuracy: 0.4812 - val_loss: 1.0439 - val_top_k_categorical_accuracy: 0.4715\n",
      "Epoch 18/40\n",
      "1563/1563 [==============================] - 61s 39ms/step - loss: 1.1529 - top_k_categorical_accuracy: 0.4844 - val_loss: 1.0027 - val_top_k_categorical_accuracy: 0.4413\n",
      "Epoch 19/40\n",
      "1563/1563 [==============================] - 58s 37ms/step - loss: 1.1482 - top_k_categorical_accuracy: 0.4831 - val_loss: 1.0828 - val_top_k_categorical_accuracy: 0.4489\n",
      "Epoch 20/40\n",
      "1563/1563 [==============================] - 57s 37ms/step - loss: 1.1409 - top_k_categorical_accuracy: 0.4758 - val_loss: 0.9930 - val_top_k_categorical_accuracy: 0.4194\n",
      "Epoch 21/40\n",
      "1563/1563 [==============================] - 58s 37ms/step - loss: 1.1334 - top_k_categorical_accuracy: 0.4800 - val_loss: 0.9777 - val_top_k_categorical_accuracy: 0.4738\n",
      "Epoch 22/40\n",
      "1563/1563 [==============================] - 57s 37ms/step - loss: 1.1241 - top_k_categorical_accuracy: 0.4810 - val_loss: 0.9622 - val_top_k_categorical_accuracy: 0.4684\n",
      "Epoch 23/40\n",
      "1563/1563 [==============================] - 57s 37ms/step - loss: 1.1220 - top_k_categorical_accuracy: 0.4798 - val_loss: 0.9480 - val_top_k_categorical_accuracy: 0.4251\n",
      "Epoch 24/40\n",
      "1563/1563 [==============================] - 58s 37ms/step - loss: 1.1026 - top_k_categorical_accuracy: 0.4801 - val_loss: 1.0522 - val_top_k_categorical_accuracy: 0.4631\n",
      "Epoch 25/40\n",
      "1563/1563 [==============================] - 57s 37ms/step - loss: 1.1046 - top_k_categorical_accuracy: 0.4746 - val_loss: 0.9515 - val_top_k_categorical_accuracy: 0.3983\n",
      "Epoch 26/40\n",
      "1563/1563 [==============================] - 57s 37ms/step - loss: 1.1050 - top_k_categorical_accuracy: 0.4857 - val_loss: 0.9474 - val_top_k_categorical_accuracy: 0.5043\n",
      "Epoch 27/40\n",
      "1563/1563 [==============================] - 57s 37ms/step - loss: 1.1007 - top_k_categorical_accuracy: 0.4913 - val_loss: 0.9394 - val_top_k_categorical_accuracy: 0.4671\n",
      "Epoch 28/40\n",
      "1563/1563 [==============================] - 57s 37ms/step - loss: 1.0808 - top_k_categorical_accuracy: 0.4837 - val_loss: 0.9820 - val_top_k_categorical_accuracy: 0.4404\n",
      "Epoch 29/40\n",
      "1563/1563 [==============================] - 61s 39ms/step - loss: 1.0875 - top_k_categorical_accuracy: 0.4876 - val_loss: 0.9348 - val_top_k_categorical_accuracy: 0.4689\n",
      "Epoch 30/40\n",
      "1563/1563 [==============================] - 60s 38ms/step - loss: 1.0871 - top_k_categorical_accuracy: 0.4777 - val_loss: 0.9578 - val_top_k_categorical_accuracy: 0.4472\n",
      "Epoch 31/40\n",
      "1563/1563 [==============================] - 58s 37ms/step - loss: 1.0805 - top_k_categorical_accuracy: 0.4808 - val_loss: 0.9630 - val_top_k_categorical_accuracy: 0.4828\n",
      "Epoch 32/40\n",
      "1563/1563 [==============================] - 59s 38ms/step - loss: 1.0807 - top_k_categorical_accuracy: 0.4864 - val_loss: 0.9350 - val_top_k_categorical_accuracy: 0.4747\n",
      "Epoch 33/40\n",
      "1563/1563 [==============================] - 61s 39ms/step - loss: 1.0719 - top_k_categorical_accuracy: 0.4957 - val_loss: 0.9423 - val_top_k_categorical_accuracy: 0.4440\n",
      "Epoch 34/40\n",
      "1563/1563 [==============================] - 61s 39ms/step - loss: 1.0641 - top_k_categorical_accuracy: 0.4847 - val_loss: 1.0234 - val_top_k_categorical_accuracy: 0.4311\n",
      "Epoch 35/40\n",
      "1563/1563 [==============================] - 61s 39ms/step - loss: 1.0600 - top_k_categorical_accuracy: 0.4878 - val_loss: 1.0499 - val_top_k_categorical_accuracy: 0.4122\n",
      "Epoch 36/40\n",
      "1563/1563 [==============================] - 62s 39ms/step - loss: 1.0664 - top_k_categorical_accuracy: 0.4712 - val_loss: 0.9369 - val_top_k_categorical_accuracy: 0.4558\n",
      "Epoch 37/40\n",
      "1563/1563 [==============================] - 61s 39ms/step - loss: 1.0602 - top_k_categorical_accuracy: 0.4787 - val_loss: 0.8997 - val_top_k_categorical_accuracy: 0.4503\n",
      "Epoch 38/40\n",
      "1563/1563 [==============================] - 61s 39ms/step - loss: 1.0487 - top_k_categorical_accuracy: 0.4858 - val_loss: 0.9349 - val_top_k_categorical_accuracy: 0.4242\n",
      "Epoch 39/40\n",
      "1563/1563 [==============================] - 61s 39ms/step - loss: 1.0438 - top_k_categorical_accuracy: 0.4874 - val_loss: 0.9620 - val_top_k_categorical_accuracy: 0.4336\n",
      "Epoch 40/40\n",
      "1563/1563 [==============================] - 57s 36ms/step - loss: 1.0490 - top_k_categorical_accuracy: 0.4908 - val_loss: 0.9537 - val_top_k_categorical_accuracy: 0.4298\n"
     ]
    }
   ],
   "source": [
    "historyrelutop5 = cnn.fit(X_train, y_train, epochs=epoch, validation_data = (X_test, y_test))"
   ]
  },
  {
   "cell_type": "markdown",
   "id": "39ee9447",
   "metadata": {},
   "source": [
    "### Model Evaluation(TOP-5) on the Test Set"
   ]
  },
  {
   "cell_type": "code",
   "execution_count": 30,
   "id": "10c6ded3",
   "metadata": {},
   "outputs": [
    {
     "name": "stdout",
     "output_type": "stream",
     "text": [
      "313/313 [==============================] - 3s 10ms/step - loss: 0.9137 - top_k_categorical_accuracy: 0.4525\n",
      "313/313 [==============================] - 3s 10ms/step - loss: 0.9137 - top_k_categorical_accuracy: 0.4525\n",
      "nCNN Model(with Relu) Test accuracy( TOP-5): 0.45249998569488525\n"
     ]
    }
   ],
   "source": [
    "cnn.evaluate(X_test, y_test)\n",
    "scorerelutop5 = cnn.evaluate(X_test, y_test, verbose=1)\n",
    "print('n''CNN Model(with Relu) Test accuracy( TOP-5):', scorerelutop5[1])"
   ]
  },
  {
   "cell_type": "markdown",
   "id": "504cef2d",
   "metadata": {},
   "source": [
    "# Changing activation function to tanh instead of Relu in the Network"
   ]
  },
  {
   "cell_type": "code",
   "execution_count": 19,
   "id": "e4f9d65a",
   "metadata": {},
   "outputs": [],
   "source": [
    "activation = 'tanh'\n",
    "cnn = models.Sequential([\n",
    "    layers.Conv2D(filters=32, kernel_size=(3, 3), activation=activation, input_shape=(32, 32, 3)),\n",
    "    layers.Lambda(tf.nn.local_response_normalization),\n",
    "    layers.MaxPooling2D((2, 2)),\n",
    "    layers.Dropout(0.2),\n",
    "    \n",
    "    layers.Conv2D(filters=32, kernel_size=(3, 3), activation=activation),\n",
    "    layers.Lambda(tf.nn.local_response_normalization),\n",
    "    layers.MaxPooling2D((2, 2)),\n",
    "    layers.Dropout(0.2),\n",
    "    \n",
    "    layers.Conv2D(filters=64, kernel_size=(3, 3), activation=activation),\n",
    "   \n",
    "    \n",
    "    layers.Conv2D(filters=64, kernel_size=(3, 3), activation=activation),\n",
    "    layers.MaxPooling2D((2, 2)),\n",
    "    layers.Dropout(0.4),\n",
    "    \n",
    "    layers.Flatten(),\n",
    "    layers.Dense(64, activation=activation),\n",
    "    layers.Dropout(0.5),\n",
    "\n",
    "    layers.Dense(10, activation='softmax')\n",
    "])"
   ]
  },
  {
   "cell_type": "markdown",
   "id": "ad66ab14",
   "metadata": {},
   "source": [
    "###  Compile the Model with TOP-1 error(  with tanh activation)"
   ]
  },
  {
   "cell_type": "code",
   "execution_count": 20,
   "id": "bca9604c",
   "metadata": {},
   "outputs": [],
   "source": [
    "opt = tf.keras.optimizers.SGD( learning_rate=0.01,\n",
    "    momentum=0.9,\n",
    "   # weight_decay=0.0005   \n",
    ")\n",
    "\n",
    "\n",
    "cnn.compile(optimizer=opt,\n",
    "              loss='sparse_categorical_crossentropy',\n",
    "              metrics=['accuracy'])"
   ]
  },
  {
   "cell_type": "code",
   "execution_count": 21,
   "id": "9120e31c",
   "metadata": {},
   "outputs": [
    {
     "name": "stdout",
     "output_type": "stream",
     "text": [
      "Epoch 1/40\n",
      "1563/1563 [==============================] - 58s 37ms/step - loss: 1.7980 - accuracy: 0.3331 - val_loss: 1.5544 - val_accuracy: 0.4405\n",
      "Epoch 2/40\n",
      "1563/1563 [==============================] - 61s 39ms/step - loss: 1.5408 - accuracy: 0.4432 - val_loss: 1.4267 - val_accuracy: 0.4779\n",
      "Epoch 3/40\n",
      "1563/1563 [==============================] - 60s 38ms/step - loss: 1.4448 - accuracy: 0.4839 - val_loss: 1.2847 - val_accuracy: 0.5458\n",
      "Epoch 4/40\n",
      "1563/1563 [==============================] - 59s 38ms/step - loss: 1.3805 - accuracy: 0.5108 - val_loss: 1.2066 - val_accuracy: 0.5797\n",
      "Epoch 5/40\n",
      "1563/1563 [==============================] - 64s 41ms/step - loss: 1.3403 - accuracy: 0.5294 - val_loss: 1.1946 - val_accuracy: 0.5808\n",
      "Epoch 6/40\n",
      "1563/1563 [==============================] - 61s 39ms/step - loss: 1.2980 - accuracy: 0.5479 - val_loss: 1.1361 - val_accuracy: 0.5975\n",
      "Epoch 7/40\n",
      "1563/1563 [==============================] - 64s 41ms/step - loss: 1.2668 - accuracy: 0.5625 - val_loss: 1.0980 - val_accuracy: 0.6131\n",
      "Epoch 8/40\n",
      "1563/1563 [==============================] - 60s 39ms/step - loss: 1.2469 - accuracy: 0.5708 - val_loss: 1.1248 - val_accuracy: 0.6059\n",
      "Epoch 9/40\n",
      "1563/1563 [==============================] - 61s 39ms/step - loss: 1.2276 - accuracy: 0.5776 - val_loss: 1.1086 - val_accuracy: 0.6198\n",
      "Epoch 10/40\n",
      "1563/1563 [==============================] - 61s 39ms/step - loss: 1.2114 - accuracy: 0.5843 - val_loss: 1.0984 - val_accuracy: 0.6109\n",
      "Epoch 11/40\n",
      "1563/1563 [==============================] - 63s 40ms/step - loss: 1.1956 - accuracy: 0.5911 - val_loss: 1.0367 - val_accuracy: 0.6412\n",
      "Epoch 12/40\n",
      "1563/1563 [==============================] - 65s 41ms/step - loss: 1.1777 - accuracy: 0.5975 - val_loss: 1.0103 - val_accuracy: 0.6603\n",
      "Epoch 13/40\n",
      "1563/1563 [==============================] - 62s 40ms/step - loss: 1.1633 - accuracy: 0.6024 - val_loss: 0.9987 - val_accuracy: 0.6581\n",
      "Epoch 14/40\n",
      "1563/1563 [==============================] - 62s 39ms/step - loss: 1.1552 - accuracy: 0.6061 - val_loss: 0.9859 - val_accuracy: 0.6570\n",
      "Epoch 15/40\n",
      "1563/1563 [==============================] - 62s 40ms/step - loss: 1.1335 - accuracy: 0.6134 - val_loss: 0.9928 - val_accuracy: 0.6630\n",
      "Epoch 16/40\n",
      "1563/1563 [==============================] - 60s 38ms/step - loss: 1.1356 - accuracy: 0.6148 - val_loss: 1.0364 - val_accuracy: 0.6487\n",
      "Epoch 17/40\n",
      "1563/1563 [==============================] - 60s 38ms/step - loss: 1.1249 - accuracy: 0.6172 - val_loss: 0.9934 - val_accuracy: 0.6527\n",
      "Epoch 18/40\n",
      "1563/1563 [==============================] - 61s 39ms/step - loss: 1.1123 - accuracy: 0.6234 - val_loss: 0.9102 - val_accuracy: 0.6864\n",
      "Epoch 19/40\n",
      "1563/1563 [==============================] - 64s 41ms/step - loss: 1.0995 - accuracy: 0.6277 - val_loss: 0.9905 - val_accuracy: 0.6676\n",
      "Epoch 20/40\n",
      "1563/1563 [==============================] - 64s 41ms/step - loss: 1.0905 - accuracy: 0.6315 - val_loss: 0.9697 - val_accuracy: 0.6675\n",
      "Epoch 21/40\n",
      "1563/1563 [==============================] - 65s 42ms/step - loss: 1.0807 - accuracy: 0.6337 - val_loss: 0.9497 - val_accuracy: 0.6682\n",
      "Epoch 22/40\n",
      "1563/1563 [==============================] - 65s 41ms/step - loss: 1.0697 - accuracy: 0.6390 - val_loss: 0.9504 - val_accuracy: 0.6785\n",
      "Epoch 23/40\n",
      "1563/1563 [==============================] - 63s 40ms/step - loss: 1.0664 - accuracy: 0.6402 - val_loss: 0.9382 - val_accuracy: 0.6802\n",
      "Epoch 24/40\n",
      "1563/1563 [==============================] - 62s 39ms/step - loss: 1.0599 - accuracy: 0.6430 - val_loss: 0.9289 - val_accuracy: 0.6906\n",
      "Epoch 25/40\n",
      "1563/1563 [==============================] - 64s 41ms/step - loss: 1.0523 - accuracy: 0.6456 - val_loss: 0.9403 - val_accuracy: 0.6823\n",
      "Epoch 26/40\n",
      "1563/1563 [==============================] - 65s 41ms/step - loss: 1.0490 - accuracy: 0.6479 - val_loss: 0.9265 - val_accuracy: 0.6809\n",
      "Epoch 27/40\n",
      "1563/1563 [==============================] - 64s 41ms/step - loss: 1.0386 - accuracy: 0.6515 - val_loss: 0.8923 - val_accuracy: 0.6938\n",
      "Epoch 28/40\n",
      "1563/1563 [==============================] - 64s 41ms/step - loss: 1.0408 - accuracy: 0.6504 - val_loss: 0.9232 - val_accuracy: 0.6804\n",
      "Epoch 29/40\n",
      "1563/1563 [==============================] - 64s 41ms/step - loss: 1.0307 - accuracy: 0.6546 - val_loss: 0.8970 - val_accuracy: 0.6945\n",
      "Epoch 30/40\n",
      "1563/1563 [==============================] - 65s 42ms/step - loss: 1.0305 - accuracy: 0.6561 - val_loss: 0.9579 - val_accuracy: 0.6714\n",
      "Epoch 31/40\n",
      "1563/1563 [==============================] - 65s 42ms/step - loss: 1.0167 - accuracy: 0.6602 - val_loss: 0.8946 - val_accuracy: 0.6942\n",
      "Epoch 32/40\n",
      "1563/1563 [==============================] - 63s 41ms/step - loss: 1.0276 - accuracy: 0.6539 - val_loss: 0.9491 - val_accuracy: 0.6809\n",
      "Epoch 33/40\n",
      "1563/1563 [==============================] - 60s 39ms/step - loss: 1.0167 - accuracy: 0.6599 - val_loss: 0.8836 - val_accuracy: 0.7045\n",
      "Epoch 34/40\n",
      "1563/1563 [==============================] - 60s 38ms/step - loss: 1.0092 - accuracy: 0.6613 - val_loss: 0.9195 - val_accuracy: 0.6855\n",
      "Epoch 35/40\n",
      "1563/1563 [==============================] - 60s 39ms/step - loss: 1.0040 - accuracy: 0.6651 - val_loss: 0.8586 - val_accuracy: 0.7033\n",
      "Epoch 36/40\n",
      "1563/1563 [==============================] - 60s 38ms/step - loss: 1.0025 - accuracy: 0.6666 - val_loss: 0.8842 - val_accuracy: 0.6970\n",
      "Epoch 37/40\n",
      "1563/1563 [==============================] - 64s 41ms/step - loss: 1.0016 - accuracy: 0.6660 - val_loss: 0.9098 - val_accuracy: 0.6889\n",
      "Epoch 38/40\n",
      "1563/1563 [==============================] - 62s 40ms/step - loss: 0.9905 - accuracy: 0.6701 - val_loss: 0.9695 - val_accuracy: 0.6715\n",
      "Epoch 39/40\n",
      "1563/1563 [==============================] - 64s 41ms/step - loss: 0.9928 - accuracy: 0.6699 - val_loss: 0.9245 - val_accuracy: 0.6867\n",
      "Epoch 40/40\n",
      "1563/1563 [==============================] - 64s 41ms/step - loss: 0.9903 - accuracy: 0.6713 - val_loss: 0.8428 - val_accuracy: 0.7092\n"
     ]
    }
   ],
   "source": [
    "historytanhtop1 =cnn.fit(X_train, y_train, epochs=epoch, validation_data = (X_test, y_test))"
   ]
  },
  {
   "cell_type": "code",
   "execution_count": 22,
   "id": "3a98b691",
   "metadata": {},
   "outputs": [
    {
     "name": "stdout",
     "output_type": "stream",
     "text": [
      "313/313 [==============================] - 4s 13ms/step - loss: 0.8428 - accuracy: 0.7092\n",
      "313/313 [==============================] - 4s 13ms/step - loss: 0.8428 - accuracy: 0.7092\n",
      "nCNN Model(with Relu) Test accuracy( TOP-1): 0.7092000246047974\n"
     ]
    }
   ],
   "source": [
    "cnn.evaluate(X_test, y_test)\n",
    "scoretanhtop1 = cnn.evaluate(X_test, y_test, verbose=1)\n",
    "print('n''CNN Model(with tanh) Test accuracy( TOP-1):', scoretanhtop1[1])"
   ]
  },
  {
   "cell_type": "markdown",
   "id": "4d7a8ddd",
   "metadata": {},
   "source": [
    "# plot the training accuracy(TOP-1) and loss  with ReLU and tanh at each epoch"
   ]
  },
  {
   "cell_type": "code",
   "execution_count": 33,
   "id": "3485e925",
   "metadata": {},
   "outputs": [
    {
     "data": {
      "image/png": "[encoded data removed]",
      "text/plain": [
       "<Figure size 640x480 with 1 Axes>"
      ]
     },
     "metadata": {},
     "output_type": "display_data"
    }
   ],
   "source": [
    "loss = historytanhtop1.history['loss']\n",
    "val_loss = historyrelutop1.history['loss']\n",
    "epochs = range(1, len(loss) + 1)\n",
    "plt.plot(epochs, loss, 'bo', label='Training loss (tanh)')\n",
    "plt.plot(epochs, val_loss, 'b', label='Training loss (ReLU)')\n",
    "plt.title('Training loss with Relu and tanh')\n",
    "plt.xlabel('Epochs')\n",
    "plt.ylabel('Loss')\n",
    "plt.legend()\n",
    "plt.show()"
   ]
  },
  {
   "cell_type": "code",
   "execution_count": 24,
   "id": "20db7b60",
   "metadata": {},
   "outputs": [
    {
     "data": {
      "image/png": "[encoded data removed]",
      "text/plain": [
       "<Figure size 640x480 with 1 Axes>"
      ]
     },
     "metadata": {},
     "output_type": "display_data"
    }
   ],
   "source": [
    "accuracy = historytanhtop1.history['accuracy']\n",
    "val_accuracy = historyrelutop1.history['accuracy']\n",
    "plt.plot(epochs, accuracy, 'bo', label='Training accuracy TOP-1(tanh)')\n",
    "plt.plot(epochs, val_accuracy, 'b', label='Training accuracy TOP-1(ReLU)')\n",
    "plt.title('Training  accuracy(TOP-1 error) with ReLU and tanh')\n",
    "plt.xlabel('Epochs')\n",
    "plt.ylabel('Accuracy(TOP-1 error)')\n",
    "plt.legend()\n",
    "plt.show()"
   ]
  },
  {
   "cell_type": "markdown",
   "id": "e2f16f28",
   "metadata": {},
   "source": [
    "### Compile the Model with TOP-5 error(  with tanh activation)"
   ]
  },
  {
   "cell_type": "code",
   "execution_count": 25,
   "id": "28acecb7",
   "metadata": {},
   "outputs": [],
   "source": [
    "activation = 'tanh'\n",
    "cnn = models.Sequential([\n",
    "    layers.Conv2D(filters=32, kernel_size=(3, 3), activation=activation, input_shape=(32, 32, 3)),\n",
    "    layers.Lambda(tf.nn.local_response_normalization),\n",
    "    layers.MaxPooling2D((2, 2)),\n",
    "    layers.Dropout(0.2),\n",
    "    \n",
    "    layers.Conv2D(filters=32, kernel_size=(3, 3), activation=activation),\n",
    "    layers.Lambda(tf.nn.local_response_normalization),\n",
    "    layers.MaxPooling2D((2, 2)),\n",
    "    layers.Dropout(0.2),\n",
    "    \n",
    "    layers.Conv2D(filters=64, kernel_size=(3, 3), activation=activation),\n",
    "   \n",
    "    \n",
    "    layers.Conv2D(filters=64, kernel_size=(3, 3), activation=activation),\n",
    "    layers.MaxPooling2D((2, 2)),\n",
    "    layers.Dropout(0.4),\n",
    "    \n",
    "    layers.Flatten(),\n",
    "    layers.Dense(64, activation=activation),\n",
    "    layers.Dropout(0.5),\n",
    "\n",
    "    layers.Dense(10, activation='softmax')\n",
    "])"
   ]
  },
  {
   "cell_type": "code",
   "execution_count": 26,
   "id": "555e6a34",
   "metadata": {},
   "outputs": [],
   "source": [
    "opt = tf.keras.optimizers.SGD( learning_rate=0.01,\n",
    "    momentum=0.9,\n",
    "   # weight_decay=0.0005   \n",
    ")   \n",
    "acc= tf.keras.metrics.TopKCategoricalAccuracy(k=5) #top-5 error\n",
    "cnn.compile(optimizer = opt,loss = 'sparse_categorical_crossentropy', metrics = acc)"
   ]
  },
  {
   "cell_type": "code",
   "execution_count": 27,
   "id": "e9d71126",
   "metadata": {},
   "outputs": [
    {
     "name": "stdout",
     "output_type": "stream",
     "text": [
      "Epoch 1/40\n",
      "1563/1563 [==============================] - 60s 38ms/step - loss: 1.8100 - top_k_categorical_accuracy: 0.4393 - val_loss: 1.4720 - val_top_k_categorical_accuracy: 0.4595\n",
      "Epoch 2/40\n",
      "1563/1563 [==============================] - 62s 39ms/step - loss: 1.5484 - top_k_categorical_accuracy: 0.4417 - val_loss: 1.3662 - val_top_k_categorical_accuracy: 0.4012\n",
      "Epoch 3/40\n",
      "1563/1563 [==============================] - 61s 39ms/step - loss: 1.4511 - top_k_categorical_accuracy: 0.4514 - val_loss: 1.4097 - val_top_k_categorical_accuracy: 0.2807\n",
      "Epoch 4/40\n",
      "1563/1563 [==============================] - 60s 39ms/step - loss: 1.3814 - top_k_categorical_accuracy: 0.4505 - val_loss: 1.1554 - val_top_k_categorical_accuracy: 0.4197\n",
      "Epoch 5/40\n",
      "1563/1563 [==============================] - 60s 39ms/step - loss: 1.3408 - top_k_categorical_accuracy: 0.4557 - val_loss: 1.1407 - val_top_k_categorical_accuracy: 0.4153\n",
      "Epoch 6/40\n",
      "1563/1563 [==============================] - 60s 39ms/step - loss: 1.3059 - top_k_categorical_accuracy: 0.4581 - val_loss: 1.1037 - val_top_k_categorical_accuracy: 0.4548\n",
      "Epoch 7/40\n",
      "1563/1563 [==============================] - 61s 39ms/step - loss: 1.2717 - top_k_categorical_accuracy: 0.4644 - val_loss: 1.1094 - val_top_k_categorical_accuracy: 0.4550\n",
      "Epoch 8/40\n",
      "1563/1563 [==============================] - 60s 38ms/step - loss: 1.2570 - top_k_categorical_accuracy: 0.4651 - val_loss: 1.1871 - val_top_k_categorical_accuracy: 0.4235\n",
      "Epoch 9/40\n",
      "1563/1563 [==============================] - 60s 38ms/step - loss: 1.2281 - top_k_categorical_accuracy: 0.4699 - val_loss: 1.0296 - val_top_k_categorical_accuracy: 0.4797\n",
      "Epoch 10/40\n",
      "1563/1563 [==============================] - 61s 39ms/step - loss: 1.2082 - top_k_categorical_accuracy: 0.4723 - val_loss: 1.0554 - val_top_k_categorical_accuracy: 0.4007\n",
      "Epoch 11/40\n",
      "1563/1563 [==============================] - 62s 40ms/step - loss: 1.1885 - top_k_categorical_accuracy: 0.4742 - val_loss: 1.0921 - val_top_k_categorical_accuracy: 0.5238\n",
      "Epoch 12/40\n",
      "1563/1563 [==============================] - 61s 39ms/step - loss: 1.1789 - top_k_categorical_accuracy: 0.4700 - val_loss: 1.0970 - val_top_k_categorical_accuracy: 0.3975\n",
      "Epoch 13/40\n",
      "1563/1563 [==============================] - 62s 40ms/step - loss: 1.1641 - top_k_categorical_accuracy: 0.4780 - val_loss: 1.0105 - val_top_k_categorical_accuracy: 0.3931\n",
      "Epoch 14/40\n",
      "1563/1563 [==============================] - 64s 41ms/step - loss: 1.1482 - top_k_categorical_accuracy: 0.4826 - val_loss: 1.0092 - val_top_k_categorical_accuracy: 0.4146\n",
      "Epoch 15/40\n",
      "1563/1563 [==============================] - 62s 40ms/step - loss: 1.1475 - top_k_categorical_accuracy: 0.4806 - val_loss: 0.9913 - val_top_k_categorical_accuracy: 0.4320\n",
      "Epoch 16/40\n",
      "1563/1563 [==============================] - 63s 40ms/step - loss: 1.1328 - top_k_categorical_accuracy: 0.4808 - val_loss: 0.9581 - val_top_k_categorical_accuracy: 0.4062\n",
      "Epoch 17/40\n",
      "1563/1563 [==============================] - 63s 40ms/step - loss: 1.1165 - top_k_categorical_accuracy: 0.4841 - val_loss: 0.9347 - val_top_k_categorical_accuracy: 0.4141\n",
      "Epoch 18/40\n",
      "1563/1563 [==============================] - 62s 40ms/step - loss: 1.1179 - top_k_categorical_accuracy: 0.4754 - val_loss: 0.9561 - val_top_k_categorical_accuracy: 0.4391\n",
      "Epoch 19/40\n",
      "1563/1563 [==============================] - 63s 40ms/step - loss: 1.1047 - top_k_categorical_accuracy: 0.4786 - val_loss: 0.9409 - val_top_k_categorical_accuracy: 0.4133\n",
      "Epoch 20/40\n",
      "1563/1563 [==============================] - 64s 41ms/step - loss: 1.1033 - top_k_categorical_accuracy: 0.4734 - val_loss: 0.9534 - val_top_k_categorical_accuracy: 0.4381\n",
      "Epoch 21/40\n",
      "1563/1563 [==============================] - 65s 42ms/step - loss: 1.0926 - top_k_categorical_accuracy: 0.4809 - val_loss: 0.9286 - val_top_k_categorical_accuracy: 0.4564\n",
      "Epoch 22/40\n",
      "1563/1563 [==============================] - 64s 41ms/step - loss: 1.0842 - top_k_categorical_accuracy: 0.4792 - val_loss: 0.9649 - val_top_k_categorical_accuracy: 0.3981\n",
      "Epoch 23/40\n",
      "1563/1563 [==============================] - 65s 42ms/step - loss: 1.0772 - top_k_categorical_accuracy: 0.4838 - val_loss: 0.9339 - val_top_k_categorical_accuracy: 0.4267\n",
      "Epoch 24/40\n",
      "1563/1563 [==============================] - 66s 42ms/step - loss: 1.0687 - top_k_categorical_accuracy: 0.4827 - val_loss: 0.8992 - val_top_k_categorical_accuracy: 0.4179\n",
      "Epoch 25/40\n",
      "1563/1563 [==============================] - 64s 41ms/step - loss: 1.0611 - top_k_categorical_accuracy: 0.4799 - val_loss: 0.8768 - val_top_k_categorical_accuracy: 0.4536\n",
      "Epoch 26/40\n",
      "1563/1563 [==============================] - 65s 41ms/step - loss: 1.0612 - top_k_categorical_accuracy: 0.4892 - val_loss: 0.9458 - val_top_k_categorical_accuracy: 0.4003\n",
      "Epoch 27/40\n",
      "1563/1563 [==============================] - 65s 41ms/step - loss: 1.0539 - top_k_categorical_accuracy: 0.4845 - val_loss: 0.9081 - val_top_k_categorical_accuracy: 0.4373\n",
      "Epoch 28/40\n",
      "1563/1563 [==============================] - 64s 41ms/step - loss: 1.0494 - top_k_categorical_accuracy: 0.4820 - val_loss: 0.9070 - val_top_k_categorical_accuracy: 0.4269\n",
      "Epoch 29/40\n",
      "1563/1563 [==============================] - 67s 43ms/step - loss: 1.0445 - top_k_categorical_accuracy: 0.4782 - val_loss: 0.9290 - val_top_k_categorical_accuracy: 0.4201\n",
      "Epoch 30/40\n",
      "1563/1563 [==============================] - 66s 42ms/step - loss: 1.0350 - top_k_categorical_accuracy: 0.4832 - val_loss: 0.9113 - val_top_k_categorical_accuracy: 0.4271\n",
      "Epoch 31/40\n",
      "1563/1563 [==============================] - 65s 41ms/step - loss: 1.0405 - top_k_categorical_accuracy: 0.4876 - val_loss: 0.8836 - val_top_k_categorical_accuracy: 0.4370\n",
      "Epoch 32/40\n",
      "1563/1563 [==============================] - 67s 43ms/step - loss: 1.0290 - top_k_categorical_accuracy: 0.4804 - val_loss: 0.8574 - val_top_k_categorical_accuracy: 0.4713\n",
      "Epoch 33/40\n",
      "1563/1563 [==============================] - 67s 43ms/step - loss: 1.0287 - top_k_categorical_accuracy: 0.4844 - val_loss: 0.8799 - val_top_k_categorical_accuracy: 0.4273\n",
      "Epoch 34/40\n",
      "1563/1563 [==============================] - 65s 41ms/step - loss: 1.0285 - top_k_categorical_accuracy: 0.4870 - val_loss: 0.8762 - val_top_k_categorical_accuracy: 0.4069\n",
      "Epoch 35/40\n",
      "1563/1563 [==============================] - 64s 41ms/step - loss: 1.0242 - top_k_categorical_accuracy: 0.4888 - val_loss: 0.9165 - val_top_k_categorical_accuracy: 0.4278\n",
      "Epoch 36/40\n",
      "1563/1563 [==============================] - 64s 41ms/step - loss: 1.0155 - top_k_categorical_accuracy: 0.4799 - val_loss: 0.8450 - val_top_k_categorical_accuracy: 0.4430\n",
      "Epoch 37/40\n",
      "1563/1563 [==============================] - 64s 41ms/step - loss: 1.0069 - top_k_categorical_accuracy: 0.4857 - val_loss: 0.9597 - val_top_k_categorical_accuracy: 0.4001\n",
      "Epoch 38/40\n",
      "1563/1563 [==============================] - 64s 41ms/step - loss: 1.0096 - top_k_categorical_accuracy: 0.4787 - val_loss: 0.8509 - val_top_k_categorical_accuracy: 0.4791\n",
      "Epoch 39/40\n",
      "1563/1563 [==============================] - 63s 41ms/step - loss: 1.0027 - top_k_categorical_accuracy: 0.4894 - val_loss: 0.8849 - val_top_k_categorical_accuracy: 0.4348\n",
      "Epoch 40/40\n",
      "1563/1563 [==============================] - 62s 40ms/step - loss: 0.9983 - top_k_categorical_accuracy: 0.4893 - val_loss: 0.9137 - val_top_k_categorical_accuracy: 0.4525\n"
     ]
    }
   ],
   "source": [
    "historytanhtop5 =cnn.fit(X_train, y_train, epochs=epoch, validation_data = (X_test, y_test))"
   ]
  },
  {
   "cell_type": "code",
   "execution_count": 28,
   "id": "355e2c17",
   "metadata": {},
   "outputs": [
    {
     "name": "stdout",
     "output_type": "stream",
     "text": [
      "313/313 [==============================] - 3s 11ms/step - loss: 0.9137 - top_k_categorical_accuracy: 0.4525\n",
      "313/313 [==============================] - 3s 11ms/step - loss: 0.9137 - top_k_categorical_accuracy: 0.4525\n",
      "nCNN Model(with Relu) Test accuracy( TOP-5): 0.45249998569488525\n"
     ]
    }
   ],
   "source": [
    "cnn.evaluate(X_test, y_test)\n",
    "scoretanhtop5 = cnn.evaluate(X_test, y_test, verbose=1)\n",
    "print('n''CNN Model(with tanh) Test accuracy( TOP-5):', scoretanhtop5[1])"
   ]
  },
  {
   "cell_type": "markdown",
   "id": "2af31e10",
   "metadata": {},
   "source": [
    "# Comparing Model Accuracies( TOP-1 and TOP-5) for both CNNS with different activators"
   ]
  },
  {
   "cell_type": "markdown",
   "id": "be18c5e2",
   "metadata": {},
   "source": [
    "After implementing two models with different activators and acquiring their scores, comparing them is a must to reach a final statement. The below-mentioned code will present a table format stating the models from best to least accuracies."
   ]
  },
  {
   "cell_type": "code",
   "execution_count": 29,
   "id": "48912134",
   "metadata": {},
   "outputs": [
    {
     "data": {
      "text/html": [
       "<div>\n",
       "<style scoped>\n",
       "    .dataframe tbody tr th:only-of-type {\n",
       "        vertical-align: middle;\n",
       "    }\n",
       "\n",
       "    .dataframe tbody tr th {\n",
       "        vertical-align: top;\n",
       "    }\n",
       "\n",
       "    .dataframe thead th {\n",
       "        text-align: right;\n",
       "    }\n",
       "</style>\n",
       "<table border=\"1\" class=\"dataframe\">\n",
       "  <thead>\n",
       "    <tr style=\"text-align: right;\">\n",
       "      <th></th>\n",
       "      <th>Accuracy Score(TOP-1)</th>\n",
       "      <th>Accuracy Score(TOP-5)</th>\n",
       "    </tr>\n",
       "    <tr>\n",
       "      <th>Model</th>\n",
       "      <th></th>\n",
       "      <th></th>\n",
       "    </tr>\n",
       "  </thead>\n",
       "  <tbody>\n",
       "    <tr>\n",
       "      <th>CNN (tanh)</th>\n",
       "      <td>0.7092</td>\n",
       "      <td>0.4525</td>\n",
       "    </tr>\n",
       "    <tr>\n",
       "      <th>CNN(Relu)</th>\n",
       "      <td>0.6175</td>\n",
       "      <td>0.4298</td>\n",
       "    </tr>\n",
       "  </tbody>\n",
       "</table>\n",
       "</div>"
      ],
      "text/plain": [
       "            Accuracy Score(TOP-1)  Accuracy Score(TOP-5)\n",
       "Model                                                   \n",
       "CNN (tanh)                 0.7092                 0.4525\n",
       "CNN(Relu)                  0.6175                 0.4298"
      ]
     },
     "execution_count": 29,
     "metadata": {},
     "output_type": "execute_result"
    }
   ],
   "source": [
    "import pandas as pd\n",
    "results=pd.DataFrame({'Model':['CNN(Relu)','CNN (tanh)'],\n",
    "                     'Accuracy Score(TOP-1)':[scorerelutop1[1],scoretanhtop1[1]], \n",
    "                      'Accuracy Score(TOP-5)':[scorerelutop5[1],scoretanhtop5[1]]})\n",
    "result_df=results.sort_values(by='Accuracy Score(TOP-1)',  ascending=False)\n",
    "result_df=results.sort_values(by='Accuracy Score(TOP-5)', ascending=False)\n",
    "result_df=result_df.set_index('Model')\n",
    "result_df"
   ]
  },
  {
   "cell_type": "markdown",
   "id": "96a69d5c",
   "metadata": {},
   "source": [
    "The table generated above states that Our network with ReLU activation achieves top-1 and top-5 test set error rates of 61.75%\n",
    "and 42.98%, respectively, while the CNN with tanh activation leads the prediction with a maximum accuracy score (TOP-1) 70.92% and with a minimum accuracy score (TOP-5) 45.25%\n",
    "\n",
    "\n"
   ]
  }
 ],
 "metadata": {
  "kernelspec": {
   "display_name": "Python 3 (ipykernel)",
   "language": "python",
   "name": "python3"
  },
  "language_info": {
   "codemirror_mode": {
    "name": "ipython",
    "version": 3
   },
   "file_extension": ".py",
   "mimetype": "text/x-python",
   "name": "python",
   "nbconvert_exporter": "python",
   "pygments_lexer": "ipython3",
   "version": "3.9.13"
  }
 },
 "nbformat": 4,
 "nbformat_minor": 5
}
